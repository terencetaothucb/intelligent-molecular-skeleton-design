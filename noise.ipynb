{
 "cells": [
  {
   "cell_type": "markdown",
   "id": "ff01d9b9-e1d1-4a93-abde-85763857601e",
   "metadata": {},
   "source": [
    "导入数据"
   ]
  },
  {
   "cell_type": "code",
   "execution_count": 10,
   "id": "5fac4fd1-4f58-4e6e-a332-06200fed061e",
   "metadata": {
    "tags": []
   },
   "outputs": [],
   "source": [
    "import pandas as pd\n",
    "import numpy as np\n",
    "\n",
    "df = pd.read_excel('')\n",
    "\n",
    "# Calculate the standard deviation of each feature.\n",
    "std_devs = df.iloc[:, 1:].std()\n",
    "# std_devs = 1\n",
    "\n",
    "# Define the multiple of the standard deviation of noise.\n",
    "noise_multiplier = 0.1\n",
    "\n",
    "# Generate Gaussian noise\n",
    "noisy_data = df.copy()\n",
    "for col_name, std_dev in std_devs.items():\n",
    "    noise = np.random.normal(0, std_dev * noise_multiplier, df.shape[0])\n",
    "    noisy_data[col_name] += noise\n",
    "\n",
    "noisy_data.to_excel('new_database.xlsx', index=False)"
   ]
  }
 ],
 "metadata": {
  "kernelspec": {
   "display_name": "Python 3 (ipykernel)",
   "language": "python",
   "name": "python3"
  },
  "language_info": {
   "codemirror_mode": {
    "name": "ipython",
    "version": 3
   },
   "file_extension": ".py",
   "mimetype": "text/x-python",
   "name": "python",
   "nbconvert_exporter": "python",
   "pygments_lexer": "ipython3",
   "version": "3.12.3"
  }
 },
 "nbformat": 4,
 "nbformat_minor": 5
}
